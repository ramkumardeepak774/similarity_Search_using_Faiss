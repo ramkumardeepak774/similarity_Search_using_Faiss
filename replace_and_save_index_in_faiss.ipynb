{
  "nbformat": 4,
  "nbformat_minor": 0,
  "metadata": {
    "colab": {
      "provenance": [],
      "authorship_tag": "ABX9TyMyv4T2V9HDCtxHXsUTUUJm",
      "include_colab_link": true
    },
    "kernelspec": {
      "name": "python3",
      "display_name": "Python 3"
    },
    "language_info": {
      "name": "python"
    }
  },
  "cells": [
    {
      "cell_type": "markdown",
      "metadata": {
        "id": "view-in-github",
        "colab_type": "text"
      },
      "source": [
        "<a href=\"https://colab.research.google.com/github/ramkumardeepak774/similarity_Search_using_Faiss/blob/main/replace_and_save_index_in_faiss.ipynb\" target=\"_parent\"><img src=\"https://colab.research.google.com/assets/colab-badge.svg\" alt=\"Open In Colab\"/></a>"
      ]
    },
    {
      "cell_type": "code",
      "execution_count": null,
      "metadata": {
        "id": "hiVE76U5p4_k"
      },
      "outputs": [],
      "source": [
        "# To store a Faiss index in local, you can use the bytea data type to store the binary data of the index as a blob\n",
        "import psycopg2\n",
        "import numpy as np"
      ]
    },
    {
      "cell_type": "code",
      "source": [
        "!pip install faiss-cpu\n"
      ],
      "metadata": {
        "colab": {
          "base_uri": "https://localhost:8080/"
        },
        "id": "1Or94vgmqN_6",
        "outputId": "0779602d-77e8-4be5-9958-3828492233eb"
      },
      "execution_count": null,
      "outputs": [
        {
          "output_type": "stream",
          "name": "stdout",
          "text": [
            "Looking in indexes: https://pypi.org/simple, https://us-python.pkg.dev/colab-wheels/public/simple/\n",
            "Collecting faiss-cpu\n",
            "  Downloading faiss_cpu-1.7.4-cp39-cp39-manylinux_2_17_x86_64.manylinux2014_x86_64.whl (17.6 MB)\n",
            "\u001b[2K     \u001b[90m━━━━━━━━━━━━━━━━━━━━━━━━━━━━━━━━━━━━━━━━\u001b[0m \u001b[32m17.6/17.6 MB\u001b[0m \u001b[31m33.4 MB/s\u001b[0m eta \u001b[36m0:00:00\u001b[0m\n",
            "\u001b[?25hInstalling collected packages: faiss-cpu\n",
            "Successfully installed faiss-cpu-1.7.4\n"
          ]
        }
      ]
    },
    {
      "cell_type": "code",
      "source": [
        "import faiss\n"
      ],
      "metadata": {
        "id": "l5nQz2adqUYV"
      },
      "execution_count": null,
      "outputs": []
    },
    {
      "cell_type": "code",
      "source": [
        "# create an index\n",
        "d = 64  # dimension\n",
        "n = 100000  # number of vectors\n",
        "xb = faiss.randn((n, d)).astype('float32')\n",
        "index = faiss.IndexFlatL2(d)\n",
        "index.add(xb)"
      ],
      "metadata": {
        "id": "Q_KauEgXqXbz"
      },
      "execution_count": null,
      "outputs": []
    },
    {
      "cell_type": "code",
      "source": [
        "# save the index to a binary file\n",
        "faiss.write_index(index, \"my_index.bin\")\n"
      ],
      "metadata": {
        "id": "c9YrLDYoqcIw"
      },
      "execution_count": null,
      "outputs": []
    },
    {
      "cell_type": "code",
      "source": [
        "\n",
        "# load the index from the binary file\n",
        "index2 = faiss.read_index(\"my_index.bin\")"
      ],
      "metadata": {
        "id": "aTXtP2RjrAB4"
      },
      "execution_count": null,
      "outputs": []
    },
    {
      "cell_type": "code",
      "source": [
        "\n",
        "# perform a query on the loaded index\n",
        "xq = np.random.randn(1, d).astype('float32')\n",
        "D, I = index2.search(xq, k=10)\n",
        "\n",
        "print(I)\n"
      ],
      "metadata": {
        "colab": {
          "base_uri": "https://localhost:8080/"
        },
        "id": "YapaJDESz6F-",
        "outputId": "406e5a87-6380-446d-abd8-050fa550e696"
      },
      "execution_count": null,
      "outputs": [
        {
          "output_type": "stream",
          "name": "stdout",
          "text": [
            "[[92839 60384 29813 68657 63557  6162 88290 60331 19761 12692]]\n"
          ]
        }
      ]
    },
    {
      "cell_type": "markdown",
      "source": [
        "We can update the index in Faiss by performing a search for the vector and then using its resulting ID to update the index.\n",
        "\n"
      ],
      "metadata": {
        "id": "i-IGDjGTz_Q6"
      }
    },
    {
      "cell_type": "code",
      "source": [
        "\n",
        "# generate new vector to replace existing vector\n",
        "new_x = faiss.randn((1, d)).astype('float32')"
      ],
      "metadata": {
        "id": "bj3uQnbv0JHR"
      },
      "execution_count": null,
      "outputs": []
    },
    {
      "cell_type": "code",
      "source": [
        "new_x"
      ],
      "metadata": {
        "colab": {
          "base_uri": "https://localhost:8080/"
        },
        "id": "4N_wf5-Q0O0d",
        "outputId": "be7c95c1-a343-4a4b-c6f8-981af51d4407"
      },
      "execution_count": null,
      "outputs": [
        {
          "output_type": "execute_result",
          "data": {
            "text/plain": [
              "array([[ 0.10883749, -0.459318  ,  0.7515723 , -0.1816421 , -0.9883846 ,\n",
              "         0.171899  , -0.70024973, -0.3089309 ,  1.0889151 , -0.904204  ,\n",
              "        -1.6269528 , -0.6302848 , -1.7894124 , -0.42198652, -0.45540377,\n",
              "        -1.6518626 ,  0.17468624,  2.7622788 ,  0.93555003,  0.31033963,\n",
              "        -0.1137654 , -1.134701  , -1.4693938 , -1.4257497 ,  0.957228  ,\n",
              "        -0.84074134,  0.89626247, -0.29311594, -0.98129076, -1.499216  ,\n",
              "         1.2344803 , -1.9490647 , -1.9177946 , -0.04481186,  1.4501251 ,\n",
              "        -1.3866824 ,  0.46425596, -0.559743  , -1.8414608 ,  0.13951156,\n",
              "        -0.48940092, -0.08166508,  0.32464248,  0.19947006,  0.08602966,\n",
              "         0.5737665 , -0.5551689 ,  0.3944754 ,  1.4938854 ,  0.43972817,\n",
              "        -0.2293019 ,  1.0396273 ,  0.01311562,  0.3182227 , -0.67191553,\n",
              "        -0.42357767,  1.9767416 ,  0.29624656, -0.4781985 , -0.427606  ,\n",
              "        -0.23074393,  1.0324576 , -1.6079968 , -0.77585363]],\n",
              "      dtype=float32)"
            ]
          },
          "metadata": {},
          "execution_count": 9
        }
      ]
    },
    {
      "cell_type": "code",
      "source": [
        "# search for the nearest neighbor to new vector\n",
        "D, I = index.search(new_x, k=1)\n",
        "print(I)"
      ],
      "metadata": {
        "colab": {
          "base_uri": "https://localhost:8080/"
        },
        "id": "bZCpuPvD0dGY",
        "outputId": "3b89a663-5030-4234-fd74-88843095cbfc"
      },
      "execution_count": null,
      "outputs": [
        {
          "output_type": "stream",
          "name": "stdout",
          "text": [
            "[[0]]\n"
          ]
        }
      ]
    },
    {
      "cell_type": "code",
      "source": [
        "# get the ID of the nearest neighbor\n",
        "id_to_replace = int(I[0][0])\n",
        "print(id_to_replace)"
      ],
      "metadata": {
        "colab": {
          "base_uri": "https://localhost:8080/"
        },
        "id": "kHlz-eDE0m1z",
        "outputId": "db3affe2-840b-49e4-a248-d46fc817caef"
      },
      "execution_count": null,
      "outputs": [
        {
          "output_type": "stream",
          "name": "stdout",
          "text": [
            "0\n"
          ]
        }
      ]
    },
    {
      "cell_type": "code",
      "source": [
        "# replace the vector in the index\n",
        "index.remove_ids(faiss.IDSelectorBatch([id_to_replace]))\n",
        "index.add(new_x)"
      ],
      "metadata": {
        "id": "C7nszf6g04CQ"
      },
      "execution_count": null,
      "outputs": []
    },
    {
      "cell_type": "code",
      "source": [
        "# perform a query\n",
        "xq = faiss.randn((1, d)).astype('float32')\n",
        "D, I = index.search(xq, k=10)\n",
        "print(I)"
      ],
      "metadata": {
        "colab": {
          "base_uri": "https://localhost:8080/"
        },
        "id": "FuHdYfeS08sQ",
        "outputId": "08261b47-0af5-4a59-fe7b-ac0c88f55bad"
      },
      "execution_count": null,
      "outputs": [
        {
          "output_type": "stream",
          "name": "stdout",
          "text": [
            "[[99999 99165 75985 86701  1214 51502 68116 45318  2953 46866]]\n"
          ]
        }
      ]
    },
    {
      "cell_type": "code",
      "source": [],
      "metadata": {
        "id": "1PkdIukp1CkN"
      },
      "execution_count": null,
      "outputs": []
    },
    {
      "cell_type": "markdown",
      "source": [
        "Can i separate the cluster of index and store this into disc? If i can do how to do that? **bold text**"
      ],
      "metadata": {
        "id": "xGMPiwpdRZhB"
      }
    },
    {
      "cell_type": "code",
      "source": [
        "# create an index with 4 clusters\n",
        "d = 128  # dimension of the vectors\n",
        "nlist = 4  # number of clusters\n",
        "quantizer = faiss.IndexFlatL2(d)  # the quantizer\n",
        "index = faiss.IndexIVFFlat(quantizer, d, nlist)"
      ],
      "metadata": {
        "id": "zDq-Jm5wRZCl"
      },
      "execution_count": null,
      "outputs": []
    },
    {
      "cell_type": "code",
      "source": [
        "# add some vectors to the index\n",
        "x = faiss.randn((1000, d)).astype('float32')\n",
        "index.train(x)\n",
        "index.add(x)\n"
      ],
      "metadata": {
        "id": "vsr0146XRlAQ"
      },
      "execution_count": null,
      "outputs": []
    },
    {
      "cell_type": "code",
      "source": [],
      "metadata": {
        "id": "z5onu46FRwWk"
      },
      "execution_count": null,
      "outputs": []
    }
  ]
}
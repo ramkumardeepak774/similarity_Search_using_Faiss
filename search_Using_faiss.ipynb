{
  "nbformat": 4,
  "nbformat_minor": 0,
  "metadata": {
    "colab": {
      "provenance": [],
      "authorship_tag": "ABX9TyN8B1EPIum50ShkIKMM8W75",
      "include_colab_link": true
    },
    "kernelspec": {
      "name": "python3",
      "display_name": "Python 3"
    },
    "language_info": {
      "name": "python"
    }
  },
  "cells": [
    {
      "cell_type": "markdown",
      "metadata": {
        "id": "view-in-github",
        "colab_type": "text"
      },
      "source": [
        "<a href=\"https://colab.research.google.com/github/ramkumardeepak774/similarity_Search_using_Faiss/blob/main/search_Using_faiss.ipynb\" target=\"_parent\"><img src=\"https://colab.research.google.com/assets/colab-badge.svg\" alt=\"Open In Colab\"/></a>"
      ]
    },
    {
      "cell_type": "code",
      "execution_count": null,
      "metadata": {
        "id": "dqF6CPAim1eF"
      },
      "outputs": [],
      "source": [
        "import numpy as np"
      ]
    },
    {
      "cell_type": "code",
      "source": [
        "!pip install faiss-cpu\n",
        "import faiss\n"
      ],
      "metadata": {
        "colab": {
          "base_uri": "https://localhost:8080/"
        },
        "id": "pyhtHRwJnyQ3",
        "outputId": "f23675a9-0548-4747-8579-5a27f843e075"
      },
      "execution_count": null,
      "outputs": [
        {
          "output_type": "stream",
          "name": "stdout",
          "text": [
            "Looking in indexes: https://pypi.org/simple, https://us-python.pkg.dev/colab-wheels/public/simple/\n",
            "Collecting faiss-cpu\n",
            "  Downloading faiss_cpu-1.7.4-cp310-cp310-manylinux_2_17_x86_64.manylinux2014_x86_64.whl (17.6 MB)\n",
            "\u001b[2K     \u001b[90m━━━━━━━━━━━━━━━━━━━━━━━━━━━━━━━━━━━━━━━━\u001b[0m \u001b[32m17.6/17.6 MB\u001b[0m \u001b[31m52.3 MB/s\u001b[0m eta \u001b[36m0:00:00\u001b[0m\n",
            "\u001b[?25hInstalling collected packages: faiss-cpu\n",
            "Successfully installed faiss-cpu-1.7.4\n"
          ]
        }
      ]
    },
    {
      "cell_type": "code",
      "source": [
        "#import kb data\n",
        "import pandas as pd \n",
        "kb_data = pd.read_csv(\"/content/deepu.csv\")"
      ],
      "metadata": {
        "id": "q03NosaEoFPQ"
      },
      "execution_count": null,
      "outputs": []
    },
    {
      "cell_type": "code",
      "source": [
        "# message embedding only on 'title_keywords_messages' column\n",
        "sentences = kb_data['title_keywords_messages'].tolist()"
      ],
      "metadata": {
        "id": "qGipRMNsqmZb"
      },
      "execution_count": null,
      "outputs": []
    },
    {
      "cell_type": "code",
      "source": [
        "len(sentences)"
      ],
      "metadata": {
        "colab": {
          "base_uri": "https://localhost:8080/"
        },
        "id": "yQtfttr01Bqt",
        "outputId": "98b16628-1048-4998-81d9-8d8a2e1e4b77"
      },
      "execution_count": null,
      "outputs": [
        {
          "output_type": "execute_result",
          "data": {
            "text/plain": [
              "312"
            ]
          },
          "metadata": {},
          "execution_count": 8
        }
      ]
    },
    {
      "cell_type": "code",
      "source": [
        "!pip install -U sentence-transformers\n",
        "from sentence_transformers import SentenceTransformer\n",
        "model = SentenceTransformer('multi-qa-MiniLM-L6-cos-v1')"
      ],
      "metadata": {
        "id": "owpERIHe1NW3"
      },
      "execution_count": null,
      "outputs": []
    },
    {
      "cell_type": "code",
      "source": [
        "sentence_embeddings = model.encode(sentences)"
      ],
      "metadata": {
        "id": "zxF4tUfy1qo5"
      },
      "execution_count": null,
      "outputs": []
    },
    {
      "cell_type": "code",
      "source": [
        "#dimension of vector\n",
        "d = sentence_embeddings.shape[1]"
      ],
      "metadata": {
        "id": "Guo8EQ0H1ufI"
      },
      "execution_count": null,
      "outputs": []
    },
    {
      "cell_type": "code",
      "source": [
        "index_euclidDistance= faiss.IndexFlatL2(d) # index where we search on min euclidian distance \n",
        "index_innerProduct = faiss.IndexFlatIP(d) #index where we search on maximum inner product similar to cosine similarity"
      ],
      "metadata": {
        "id": "cnEJfhlcGjug"
      },
      "execution_count": null,
      "outputs": []
    },
    {
      "cell_type": "code",
      "source": [
        "index_euclidDistance.add(sentence_embeddings)\n",
        "index_innerProduct.add(sentence_embeddings)"
      ],
      "metadata": {
        "id": "ldPp6LKrIK_P"
      },
      "execution_count": null,
      "outputs": []
    },
    {
      "cell_type": "code",
      "source": [
        "# save the index to a binary file\n",
        "faiss.write_index(index_euclidDistance, \"index_euclidDistance.bin\")\n",
        "faiss.write_index(index_innerProduct, \"index_innerProduct.bin\")"
      ],
      "metadata": {
        "id": "FPLCUd9jG-eu"
      },
      "execution_count": null,
      "outputs": []
    },
    {
      "cell_type": "code",
      "source": [
        "# load the index from the binary file\n",
        "index2_euclidDistance = faiss.read_index(\"index_euclidDistance.bin\")\n",
        "index2_innerProduct = faiss.read_index(\"index_innerProduct.bin\")"
      ],
      "metadata": {
        "id": "Fq-VyzRDIAa7"
      },
      "execution_count": null,
      "outputs": []
    },
    {
      "cell_type": "markdown",
      "source": [
        "size of index in memory"
      ],
      "metadata": {
        "id": "Fx3qPQcvW1vQ"
      }
    },
    {
      "cell_type": "code",
      "source": [
        "import sys\n",
        "index2_euclidDistance_sizeInMemory = sys.getsizeof(index2_euclidDistance)\n",
        "index2_innerProduct_sizeInMemory = sys.getsizeof(index2_innerProduct)\n",
        "# Print the size of the variable in bytes\n",
        "print(\"Size of variable in memory:\", index2_euclidDistance_sizeInMemory, \"bytes\")\n",
        "print(\"Size of variable in memory:\", index2_innerProduct_sizeInMemory, \"bytes\")"
      ],
      "metadata": {
        "colab": {
          "base_uri": "https://localhost:8080/"
        },
        "id": "dV9LFHuCURTZ",
        "outputId": "19686355-8bd6-42d6-d1b6-c6c42ff538fd"
      },
      "execution_count": null,
      "outputs": [
        {
          "output_type": "stream",
          "name": "stdout",
          "text": [
            "Size of variable in memory: 48 bytes\n",
            "Size of variable in memory: 48 bytes\n"
          ]
        }
      ]
    },
    {
      "cell_type": "code",
      "source": [
        "searchQuery = \"For the purpose of administration, the state is divided into 18 divisions and 75 districts. Divisional Commissioner, an IAS officer is the head of administration on the divisional level.[144][146][147] The administration in each district is headed by a District Magistrate, who is also an IAS officer, and is assisted by a number of officers belonging to state services.\"\n",
        "searchQueryVector = model.encode(searchQuery)"
      ],
      "metadata": {
        "id": "Yb7RlBrfJJgj"
      },
      "execution_count": null,
      "outputs": []
    },
    {
      "cell_type": "code",
      "source": [
        "t = searchQueryVector.reshape(1,384)\n",
        "t.shape"
      ],
      "metadata": {
        "colab": {
          "base_uri": "https://localhost:8080/"
        },
        "id": "75BwfwSsKODh",
        "outputId": "73b3c5bf-a80d-431d-e254-eb8933fc2d6d"
      },
      "execution_count": null,
      "outputs": [
        {
          "output_type": "execute_result",
          "data": {
            "text/plain": [
              "(1, 384)"
            ]
          },
          "metadata": {},
          "execution_count": 38
        }
      ]
    },
    {
      "cell_type": "code",
      "source": [
        "t.shape"
      ],
      "metadata": {
        "colab": {
          "base_uri": "https://localhost:8080/"
        },
        "id": "QNn6qyMfLNsV",
        "outputId": "b10325e6-65e5-42f9-dab9-90a1c5e7b562"
      },
      "execution_count": null,
      "outputs": [
        {
          "output_type": "execute_result",
          "data": {
            "text/plain": [
              "(1, 384)"
            ]
          },
          "metadata": {},
          "execution_count": 40
        }
      ]
    },
    {
      "cell_type": "code",
      "source": [
        "# perform a query on the loaded index\n",
        "D, I = index2_euclidDistance.search(t, k=3)\n",
        "\n",
        "print(I)"
      ],
      "metadata": {
        "colab": {
          "base_uri": "https://localhost:8080/"
        },
        "id": "Xjz6QELGJ6gM",
        "outputId": "3d2944db-ae93-4110-95c1-5e849ce5b930"
      },
      "execution_count": null,
      "outputs": [
        {
          "output_type": "stream",
          "name": "stdout",
          "text": [
            "[[ 40 103 192]]\n"
          ]
        }
      ]
    },
    {
      "cell_type": "code",
      "source": [
        "for index in I[0]:\n",
        "  print(sentences[index])"
      ],
      "metadata": {
        "colab": {
          "base_uri": "https://localhost:8080/"
        },
        "id": "gdFWgfcFKFT7",
        "outputId": "296a8364-2707-4fe0-ab77-b1bd19f7d563"
      },
      "execution_count": null,
      "outputs": [
        {
          "output_type": "stream",
          "name": "stdout",
          "text": [
            "  the state is bordered by <a href=\"https://en.wikipedia.org/wiki/rajasthan\" title=\"rajasthan\">rajasthan</a> to the west, <a href=\"https://en.wikipedia.org/wiki/haryana\" title=\"haryana\">haryana</a>, <a href=\"https://en.wikipedia.org/wiki/himachal_pradesh\" title=\"himachal pradesh\">himachal pradesh</a> and <a href=\"https://en.wikipedia.org/wiki/delhi\" title=\"delhi\">delhi</a> to the northwest, <a href=\"https://en.wikipedia.org/wiki/uttarakhand\" title=\"uttarakhand\">uttarakhand</a> and an international border with <a href=\"https://en.wikipedia.org/wiki/nepal\" title=\"nepal\">nepal</a> to the north, <a href=\"https://en.wikipedia.org/wiki/bihar\" title=\"bihar\">bihar</a> to the east, <a href=\"https://en.wikipedia.org/wiki/madhya_pradesh\" title=\"madhya pradesh\">madhya pradesh</a> to the south, and touches the states of <a href=\"https://en.wikipedia.org/wiki/jharkhand\" title=\"jharkhand\">jharkhand</a> and <a href=\"https://en.wikipedia.org/wiki/chhattisgarh\" title=\"chhattisgarh\">chhattisgarh</a> to the southeast. it covers 240,928 km2 (93,023 sq mi), equal to 7.3% of the total area of india, and is the <a href=\"https://en.wikipedia.org/wiki/list_of_states_of_india_by_area\" class=\"mw-redirect\" title=\"list of states of india by area\">fourth-largest indian state by area</a>. though long known for sugar production, the state's economy is now dominated by the services industry. the service sector comprises travel and <a href=\"https://en.wikipedia.org/wiki/tourism\" title=\"tourism\">tourism</a>, <a href=\"https://en.wikipedia.org/wiki/hotel_industry\" class=\"mw-redirect\" title=\"hotel industry\">hotel industry</a>, <a href=\"https://en.wikipedia.org/wiki/real_estate\" title=\"real estate\">real estate</a>, <a href=\"https://en.wikipedia.org/wiki/insurance\" title=\"insurance\">insurance</a> and financial consultancies. the <a href=\"https://en.wikipedia.org/wiki/economy_of_uttar_pradesh\" title=\"economy of uttar pradesh\">economy of uttar pradesh</a> is the <a href=\"https://en.wikipedia.org/wiki/list_of_indian_states_and_union_territories_by_gdp\" title=\"list of indian states and union territories by gdp\">third-largest state economy</a> in india with <a href=\"https://en.wikipedia.org/wiki/indian_rupee\" title=\"indian rupee\">₹</a>18.63 <a href=\"https://en.wikipedia.org/wiki/lakh\" title=\"lakh\">lakh</a> <a href=\"https://en.wikipedia.org/wiki/crore\" title=\"crore\">crore</a> (us$230 billion) in <a href=\"https://en.wikipedia.org/wiki/gross_domestic_product\" title=\"gross domestic product\">gross domestic product</a> and a per capita gsdp of ₹68,810 (us$860).<a href=\"https://en.wikipedia.org/wiki/uttar_pradesh#cite_note-up_budjet-9\">[9]</a> <a href=\"https://en.wikipedia.org/wiki/president%27s_rule\" title=\"president's rule\">president's rule</a> has been imposed in uttar pradesh ten times since 1968, for different reasons and for a total of 1,700 days.<a href=\"https://en.wikipedia.org/wiki/uttar_pradesh#cite_note-president's_rule-16\">[16]</a> the state has currently three international airports – <a href=\"https://en.wikipedia.org/wiki/chaudhary_charan_singh_international_airport\" title=\"chaudhary charan singh international airport\">chaudhary charan singh international airport</a> (lucknow), <a href=\"https://en.wikipedia.org/wiki/lal_bahadur_shastri_airport\" title=\"lal bahadur shastri airport\">lal bahadur shastri airport</a> (varanasi) and <a href=\"https://en.wikipedia.org/wiki/kushinagar_international_airport\" title=\"kushinagar international airport\">kushinagar international airport</a> (kushinagar). <a href=\"https://en.wikipedia.org/wiki/allahabad_junction_railway_station\" class=\"mw-redirect\" title=\"allahabad junction railway station\">allahabad junction</a> is the headquarters of the <a href=\"https://en.wikipedia.org/wiki/north_central_railway_zone\" title=\"north central railway zone\">north central railway</a> and <a href=\"https://en.wikipedia.org/wiki/gorakhpur_junction_railway_station\" title=\"gorakhpur junction railway station\">gorakhpur railway station</a> serves as the headquarters of the <a href=\"https://en.wikipedia.org/wiki/north_eastern_railway_zone\" title=\"north eastern railway zone\">north eastern railway</a>. the <a href=\"https://en.wikipedia.org/wiki/allahabad_high_court\" title=\"allahabad high court\">high court</a> of the state is located in allahabad. the state contributes 80 seats and 31 seats to the lower house <a href=\"https://en.wikipedia.org/wiki/lok_sabha\" title=\"lok sabha\">lok sabha</a> and the upper house <a href=\"https://en.wikipedia.org/wiki/rajya_sabha\" title=\"rajya sabha\">rajya sabha</a>, respectively.\n",
            "  the state is bordered by <a href=\"https://en.wikipedia.org/wiki/rajasthan\" title=\"rajasthan\">rajasthan</a> to the west, <a href=\"https://en.wikipedia.org/wiki/haryana\" title=\"haryana\">haryana</a>, <a href=\"https://en.wikipedia.org/wiki/himachal_pradesh\" title=\"himachal pradesh\">himachal pradesh</a> and <a href=\"https://en.wikipedia.org/wiki/delhi\" title=\"delhi\">delhi</a> to the northwest, <a href=\"https://en.wikipedia.org/wiki/uttarakhand\" title=\"uttarakhand\">uttarakhand</a> and an international border with <a href=\"https://en.wikipedia.org/wiki/nepal\" title=\"nepal\">nepal</a> to the north, <a href=\"https://en.wikipedia.org/wiki/bihar\" title=\"bihar\">bihar</a> to the east, <a href=\"https://en.wikipedia.org/wiki/madhya_pradesh\" title=\"madhya pradesh\">madhya pradesh</a> to the south, and touches the states of <a href=\"https://en.wikipedia.org/wiki/jharkhand\" title=\"jharkhand\">jharkhand</a> and <a href=\"https://en.wikipedia.org/wiki/chhattisgarh\" title=\"chhattisgarh\">chhattisgarh</a> to the southeast. it covers 240,928 km2 (93,023 sq mi), equal to 7.3% of the total area of india, and is the <a href=\"https://en.wikipedia.org/wiki/list_of_states_of_india_by_area\" class=\"mw-redirect\" title=\"list of states of india by area\">fourth-largest indian state by area</a>. though long known for sugar production, the state's economy is now dominated by the services industry. the service sector comprises travel and <a href=\"https://en.wikipedia.org/wiki/tourism\" title=\"tourism\">tourism</a>, <a href=\"https://en.wikipedia.org/wiki/hotel_industry\" class=\"mw-redirect\" title=\"hotel industry\">hotel industry</a>, <a href=\"https://en.wikipedia.org/wiki/real_estate\" title=\"real estate\">real estate</a>, <a href=\"https://en.wikipedia.org/wiki/insurance\" title=\"insurance\">insurance</a> and financial consultancies. the <a href=\"https://en.wikipedia.org/wiki/economy_of_uttar_pradesh\" title=\"economy of uttar pradesh\">economy of uttar pradesh</a> is the <a href=\"https://en.wikipedia.org/wiki/list_of_indian_states_and_union_territories_by_gdp\" title=\"list of indian states and union territories by gdp\">third-largest state economy</a> in india with <a href=\"https://en.wikipedia.org/wiki/indian_rupee\" title=\"indian rupee\">₹</a>18.63 <a href=\"https://en.wikipedia.org/wiki/lakh\" title=\"lakh\">lakh</a> <a href=\"https://en.wikipedia.org/wiki/crore\" title=\"crore\">crore</a> (us$230 billion) in <a href=\"https://en.wikipedia.org/wiki/gross_domestic_product\" title=\"gross domestic product\">gross domestic product</a> and a per capita gsdp of ₹68,810 (us$860).<a href=\"https://en.wikipedia.org/wiki/uttar_pradesh#cite_note-up_budjet-9\">[9]</a> <a href=\"https://en.wikipedia.org/wiki/president%27s_rule\" title=\"president's rule\">president's rule</a> has been imposed in uttar pradesh ten times since 1968, for different reasons and for a total of 1,700 days.<a href=\"https://en.wikipedia.org/wiki/uttar_pradesh#cite_note-president's_rule-16\">[16]</a> the state has currently three international airports – <a href=\"https://en.wikipedia.org/wiki/chaudhary_charan_singh_international_airport\" title=\"chaudhary charan singh international airport\">chaudhary charan singh international airport</a> (lucknow), <a href=\"https://en.wikipedia.org/wiki/lal_bahadur_shastri_airport\" title=\"lal bahadur shastri airport\">lal bahadur shastri airport</a> (varanasi) and <a href=\"https://en.wikipedia.org/wiki/kushinagar_international_airport\" title=\"kushinagar international airport\">kushinagar international airport</a> (kushinagar). <a href=\"https://en.wikipedia.org/wiki/allahabad_junction_railway_station\" class=\"mw-redirect\" title=\"allahabad junction railway station\">allahabad junction</a> is the headquarters of the <a href=\"https://en.wikipedia.org/wiki/north_central_railway_zone\" title=\"north central railway zone\">north central railway</a> and <a href=\"https://en.wikipedia.org/wiki/gorakhpur_junction_railway_station\" title=\"gorakhpur junction railway station\">gorakhpur railway station</a> serves as the headquarters of the <a href=\"https://en.wikipedia.org/wiki/north_eastern_railway_zone\" title=\"north eastern railway zone\">north eastern railway</a>. the <a href=\"https://en.wikipedia.org/wiki/allahabad_high_court\" title=\"allahabad high court\">high court</a> of the state is located in allahabad. the state contributes 80 seats and 31 seats to the lower house <a href=\"https://en.wikipedia.org/wiki/lok_sabha\" title=\"lok sabha\">lok sabha</a> and the upper house <a href=\"https://en.wikipedia.org/wiki/rajya_sabha\" title=\"rajya sabha\">rajya sabha</a>, respectively.\n",
            "  the state is bordered by <a href=\"https://en.wikipedia.org/wiki/rajasthan\" title=\"rajasthan\">rajasthan</a> to the west, <a href=\"https://en.wikipedia.org/wiki/haryana\" title=\"haryana\">haryana</a>, <a href=\"https://en.wikipedia.org/wiki/himachal_pradesh\" title=\"himachal pradesh\">himachal pradesh</a> and <a href=\"https://en.wikipedia.org/wiki/delhi\" title=\"delhi\">delhi</a> to the northwest, <a href=\"https://en.wikipedia.org/wiki/uttarakhand\" title=\"uttarakhand\">uttarakhand</a> and an international border with <a href=\"https://en.wikipedia.org/wiki/nepal\" title=\"nepal\">nepal</a> to the north, <a href=\"https://en.wikipedia.org/wiki/bihar\" title=\"bihar\">bihar</a> to the east, <a href=\"https://en.wikipedia.org/wiki/madhya_pradesh\" title=\"madhya pradesh\">madhya pradesh</a> to the south, and touches the states of <a href=\"https://en.wikipedia.org/wiki/jharkhand\" title=\"jharkhand\">jharkhand</a> and <a href=\"https://en.wikipedia.org/wiki/chhattisgarh\" title=\"chhattisgarh\">chhattisgarh</a> to the southeast. it covers 240,928 km2 (93,023 sq mi), equal to 7.3% of the total area of india, and is the <a href=\"https://en.wikipedia.org/wiki/list_of_states_of_india_by_area\" class=\"mw-redirect\" title=\"list of states of india by area\">fourth-largest indian state by area</a>. though long known for sugar production, the state's economy is now dominated by the services industry. the service sector comprises travel and <a href=\"https://en.wikipedia.org/wiki/tourism\" title=\"tourism\">tourism</a>, <a href=\"https://en.wikipedia.org/wiki/hotel_industry\" class=\"mw-redirect\" title=\"hotel industry\">hotel industry</a>, <a href=\"https://en.wikipedia.org/wiki/real_estate\" title=\"real estate\">real estate</a>, <a href=\"https://en.wikipedia.org/wiki/insurance\" title=\"insurance\">insurance</a> and financial consultancies. the <a href=\"https://en.wikipedia.org/wiki/economy_of_uttar_pradesh\" title=\"economy of uttar pradesh\">economy of uttar pradesh</a> is the <a href=\"https://en.wikipedia.org/wiki/list_of_indian_states_and_union_territories_by_gdp\" title=\"list of indian states and union territories by gdp\">third-largest state economy</a> in india with <a href=\"https://en.wikipedia.org/wiki/indian_rupee\" title=\"indian rupee\">₹</a>18.63 <a href=\"https://en.wikipedia.org/wiki/lakh\" title=\"lakh\">lakh</a> <a href=\"https://en.wikipedia.org/wiki/crore\" title=\"crore\">crore</a> (us$230 billion) in <a href=\"https://en.wikipedia.org/wiki/gross_domestic_product\" title=\"gross domestic product\">gross domestic product</a> and a per capita gsdp of ₹68,810 (us$860).<a href=\"https://en.wikipedia.org/wiki/uttar_pradesh#cite_note-up_budjet-9\">[9]</a> <a href=\"https://en.wikipedia.org/wiki/president%27s_rule\" title=\"president's rule\">president's rule</a> has been imposed in uttar pradesh ten times since 1968, for different reasons and for a total of 1,700 days.<a href=\"https://en.wikipedia.org/wiki/uttar_pradesh#cite_note-president's_rule-16\">[16]</a> the state has currently three international airports – <a href=\"https://en.wikipedia.org/wiki/chaudhary_charan_singh_international_airport\" title=\"chaudhary charan singh international airport\">chaudhary charan singh international airport</a> (lucknow), <a href=\"https://en.wikipedia.org/wiki/lal_bahadur_shastri_airport\" title=\"lal bahadur shastri airport\">lal bahadur shastri airport</a> (varanasi) and <a href=\"https://en.wikipedia.org/wiki/kushinagar_international_airport\" title=\"kushinagar international airport\">kushinagar international airport</a> (kushinagar). <a href=\"https://en.wikipedia.org/wiki/allahabad_junction_railway_station\" class=\"mw-redirect\" title=\"allahabad junction railway station\">allahabad junction</a> is the headquarters of the <a href=\"https://en.wikipedia.org/wiki/north_central_railway_zone\" title=\"north central railway zone\">north central railway</a> and <a href=\"https://en.wikipedia.org/wiki/gorakhpur_junction_railway_station\" title=\"gorakhpur junction railway station\">gorakhpur railway station</a> serves as the headquarters of the <a href=\"https://en.wikipedia.org/wiki/north_eastern_railway_zone\" title=\"north eastern railway zone\">north eastern railway</a>. the <a href=\"https://en.wikipedia.org/wiki/allahabad_high_court\" title=\"allahabad high court\">high court</a> of the state is located in allahabad. the state contributes 80 seats and 31 seats to the lower house <a href=\"https://en.wikipedia.org/wiki/lok_sabha\" title=\"lok sabha\">lok sabha</a> and the upper house <a href=\"https://en.wikipedia.org/wiki/rajya_sabha\" title=\"rajya sabha\">rajya sabha</a>, respectively.\n"
          ]
        }
      ]
    },
    {
      "cell_type": "markdown",
      "source": [
        "find the size of the index file"
      ],
      "metadata": {
        "id": "7GxC7XUvNPp_"
      }
    },
    {
      "cell_type": "code",
      "source": [
        "import os\n",
        "\n",
        "# Set the path of the file\n",
        "file_path_ofEuclidiean = '/content/index_euclidDistance.bin'\n",
        "file_path_ofInnerProduct = '/content/index_innerProduct.bin'\n",
        "\n",
        "# Get the size of the file in bytes\n",
        "file_size_forEculidian = os.path.getsize(file_path_ofEuclidiean)//1024\n",
        "file_size_forInnerProduct = os.path.getsize(file_path_ofInnerProduct)//1024\n",
        "\n",
        "# Print the size of the file\n",
        "print(\"File size for eculidean index:\", file_size_forEculidian , \"KB\")\n",
        "print(\"File size for inner product index:\", file_size_forInnerProduct , \"KB\")\n",
        "#this is the size of index after adding embedding vector in index"
      ],
      "metadata": {
        "colab": {
          "base_uri": "https://localhost:8080/"
        },
        "id": "0-OdOMvHMQl9",
        "outputId": "571e4354-5b2b-423c-e111-9e2b1a57256b"
      },
      "execution_count": null,
      "outputs": [
        {
          "output_type": "stream",
          "name": "stdout",
          "text": [
            "File size for eculidean index: 936 KB\n",
            "File size for inner product index: 468 KB\n"
          ]
        }
      ]
    }
  ]
}